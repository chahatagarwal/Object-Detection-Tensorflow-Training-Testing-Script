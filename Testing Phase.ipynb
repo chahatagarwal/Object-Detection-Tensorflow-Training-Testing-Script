{
 "cells": [
  {
   "cell_type": "markdown",
   "metadata": {},
   "source": [
    "If Notebook 2 (Training) successfully completed then we are ready to move into Prediciton Phase"
   ]
  },
  {
   "cell_type": "code",
   "execution_count": null,
   "metadata": {
    "colab": {},
    "colab_type": "code",
    "id": "rcWeYOtMfixj"
   },
   "outputs": [],
   "source": [
    "import os\n",
    "os.chdir(\"drive/My Drive/Object_Detection/models/research\")"
   ]
  },
  {
   "cell_type": "code",
   "execution_count": null,
   "metadata": {
    "colab": {},
    "colab_type": "code",
    "id": "d4DLLTmemjlM"
   },
   "outputs": [],
   "source": [
    "# compils the proto buffers\n",
    "!protoc object_detection/protos/*.proto --python_out=.\n",
    "\n",
    "# exports PYTHONPATH environment var with research and slim paths\n",
    "os.environ['PYTHONPATH'] += ':./:./slim/'"
   ]
  },
  {
   "cell_type": "code",
   "execution_count": null,
   "metadata": {
    "colab": {
     "base_uri": "https://localhost:8080/",
     "height": 103
    },
    "colab_type": "code",
    "id": "YaU0OU-W5Nhj",
    "outputId": "687e9404-d6ef-4351-e325-fbe99839268a"
   },
   "outputs": [],
   "source": [
    "import os \n",
    "import cv2 \n",
    "import numpy as np \n",
    "import tensorflow as tf \n",
    "import sys  \n",
    "  \n",
    "# Import utilites \n",
    "from object_detection.utils import label_map_util\n",
    "from object_detection.utils import visualization_utils as vis_util\n",
    "\n",
    "# Grab path to current working directory \n",
    "CWD_PATH = os.getcwd() \n",
    "\n",
    "# Name of the directory containing the object detection module we're using \n",
    "# The path to the directory where frozen_inference_graph is stored.\n",
    "MODEL_NAME = 'fine_tuned_model'    \n",
    "  \n",
    "# Path to frozen detection graph .pb file, which contains the model that is used \n",
    "# for object detection. \n",
    "PATH_TO_CKPT = os.path.join(CWD_PATH, MODEL_NAME, 'frozen_inference_graph.pb') \n",
    "  \n",
    "# Path to label map file \n",
    "PATH_TO_LABELS = '/content/drive/My Drive/Object_Detection/data/label_map.pbtxt'\n",
    "  \n",
    "# Path to image \n",
    "PATH_TO_IMAGE = \"/content/drive/My Drive/Object_Detection/data/images/015457551102RAB1E - 160_1.jpg\" \n",
    "  \n",
    "# Number of classes the object detector can identify \n",
    "NUM_CLASSES = 3\n",
    "  \n",
    "# Load the label map. \n",
    "# Label maps map indices to category names, so that when our convolution \n",
    "# Here we use internal utility functions, but anything that returns a \n",
    "# dictionary mapping integers to appropriate string labels would be fine \n",
    "label_map = label_map_util.load_labelmap(PATH_TO_LABELS) \n",
    "categories = label_map_util.convert_label_map_to_categories( \n",
    "        label_map, max_num_classes = NUM_CLASSES, use_display_name = True) \n",
    "category_index = label_map_util.create_category_index(categories) \n",
    "  \n",
    "# Load the Tensorflow model into memory. \n",
    "detection_graph = tf.Graph() \n",
    "with detection_graph.as_default(): \n",
    "    od_graph_def = tf.GraphDef() \n",
    "    with tf.gfile.GFile(PATH_TO_CKPT, 'rb') as fid: \n",
    "        serialized_graph = fid.read() \n",
    "        od_graph_def.ParseFromString(serialized_graph) \n",
    "        tf.import_graph_def(od_graph_def, name ='') \n",
    "  \n",
    "    sess = tf.Session(graph = detection_graph) \n",
    "  \n",
    "# Define input and output tensors (i.e. data) for the object detection classifier \n",
    "# Input tensor is the image \n",
    "image_tensor = detection_graph.get_tensor_by_name('image_tensor:0') \n",
    "  \n",
    "# Output tensors are the detection boxes, scores, and classes \n",
    "# Each box represents a part of the image where a particular object was detected \n",
    "detection_boxes = detection_graph.get_tensor_by_name('detection_boxes:0') \n",
    "  \n",
    "# Each score represents level of confidence for each of the objects. \n",
    "# The score is shown on the result image, together with the class label. \n",
    "detection_scores = detection_graph.get_tensor_by_name('detection_scores:0') \n",
    "detection_classes = detection_graph.get_tensor_by_name('detection_classes:0') \n",
    "  \n",
    "# Number of objects detected \n",
    "num_detections = detection_graph.get_tensor_by_name('num_detections:0') \n",
    "  \n",
    "# Load image using OpenCV and \n",
    "# expand image dimensions to have shape: [1, None, None, 3] \n",
    "# i.e. a single-column array, where each item in the column has the pixel RGB value \n",
    "image = cv2.imread(PATH_TO_IMAGE) \n",
    "image_expanded = np.expand_dims(image, axis = 0) \n",
    "  \n",
    "# Perform the actual detection by running the model with the image as input \n",
    "(boxes, scores, classes, num) = sess.run( \n",
    "    [detection_boxes, detection_scores, detection_classes, num_detections], \n",
    "    feed_dict ={image_tensor: image_expanded}) \n",
    "  \n",
    "# Draw the results of the detection (aka 'visualize the results') \n",
    "vis_util.visualize_boxes_and_labels_on_image_array( \n",
    "    image, \n",
    "    np.squeeze(boxes), \n",
    "    np.squeeze(classes).astype(np.int32), \n",
    "    np.squeeze(scores), \n",
    "    category_index, \n",
    "    use_normalized_coordinates = True, \n",
    "    line_thickness = 8, \n",
    "    min_score_thresh = 0.60) \n",
    "print(np.squeeze(classes).astype(np.int32))\n",
    "\n",
    "# All the results have been drawn on the image. Now display the image. \n",
    "cv2.imshow('Object detector', image) \n",
    "  \n",
    "# Press any key to close the image \n",
    "cv2.waitKey(0) \n",
    "  \n",
    "# Clean up \n",
    "cv2.destroyAllWindows()"
   ]
  }
 ],
 "metadata": {
  "accelerator": "GPU",
  "colab": {
   "collapsed_sections": [],
   "name": "Outlier Detection.ipynb",
   "provenance": []
  },
  "kernelspec": {
   "display_name": "Python 3",
   "language": "python",
   "name": "python3"
  },
  "language_info": {
   "codemirror_mode": {
    "name": "ipython",
    "version": 3
   },
   "file_extension": ".py",
   "mimetype": "text/x-python",
   "name": "python",
   "nbconvert_exporter": "python",
   "pygments_lexer": "ipython3",
   "version": "3.7.4"
  }
 },
 "nbformat": 4,
 "nbformat_minor": 1
}
